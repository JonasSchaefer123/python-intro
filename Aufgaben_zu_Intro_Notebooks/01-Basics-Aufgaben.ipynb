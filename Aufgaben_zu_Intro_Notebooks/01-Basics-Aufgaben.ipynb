{
 "cells": [
  {
   "cell_type": "markdown",
   "metadata": {
    "collapsed": false
   },
   "source": [
    "# Aufgaben zum Kapitel [Programmier-Grundlagen](../Intro-Notebooks/01-Basics.ipynb)\n",
    "\n",
    "Die folgenden Aufgaben sollen die Konzepte aus dem Grundlagenkapitel vertiefen.\n",
    "Orientieren Sie sich dabei an den dortigen Beispielen, die Lösungen hier können auf ähnliche Weise wie dort formuliert werden."
   ]
  },
  {
   "cell_type": "markdown",
   "metadata": {
    "collapsed": false
   },
   "source": [
    "## Aufgaben zu [Variablen](../Intro-Notebooks/01-Basics.ipynb#Variablen)"
   ]
  },
  {
   "cell_type": "markdown",
   "metadata": {
    "collapsed": false
   },
   "source": [
    "### Gültigkeit von Ausdrücken"
   ]
  },
  {
   "cell_type": "markdown",
   "metadata": {
    "collapsed": false
   },
   "source": [
    "Welche der folgenden Ausdrücke sind gültig?\n",
    "D.h. welche Ausdrücke sind gültige Python-Anweisungen bzw. können in Python ausgewertet werden, so dass mit dem Ergebnis weitergerechnet werden kann?\n",
    "\n",
    "Überlegen sie sich zuerst Ihre Antworten und prüfen Sie sie dann, indem Sie die folgenden Code-Zellen auswerten lassen. Wenn bei der Auswertung kein Fehler angezeigt wird, ist der Ausdruck gültig. Im Fehlerfall versuchen Sie bitte auch, die Fehlermeldung zu verstehen."
   ]
  },
  {
   "cell_type": "code",
   "execution_count": 0,
   "metadata": {
    "collapsed": false
   },
   "outputs": [
   ],
   "source": [
    "x = 3"
   ]
  },
  {
   "cell_type": "code",
   "execution_count": 0,
   "metadata": {
    "collapsed": false
   },
   "outputs": [
   ],
   "source": [
    "3+4"
   ]
  },
  {
   "cell_type": "code",
   "execution_count": 0,
   "metadata": {
    "collapsed": false
   },
   "outputs": [
   ],
   "source": [
    "x + 7"
   ]
  },
  {
   "cell_type": "code",
   "execution_count": 0,
   "metadata": {
    "collapsed": false
   },
   "outputs": [
   ],
   "source": [
    "3 = y"
   ]
  },
  {
   "cell_type": "code",
   "execution_count": 0,
   "metadata": {
    "collapsed": false
   },
   "outputs": [
   ],
   "source": [
    "3 + 4 * 5"
   ]
  },
  {
   "cell_type": "code",
   "execution_count": 0,
   "metadata": {
    "collapsed": false
   },
   "outputs": [
   ],
   "source": [
    "13 - (2 + 23)"
   ]
  },
  {
   "cell_type": "code",
   "execution_count": 0,
   "metadata": {
    "collapsed": false
   },
   "outputs": [
   ],
   "source": [
    "28 - (3+1"
   ]
  },
  {
   "cell_type": "code",
   "execution_count": 0,
   "metadata": {
    "collapsed": false
   },
   "outputs": [
   ],
   "source": [
    "x + 3 = 14"
   ]
  },
  {
   "cell_type": "code",
   "execution_count": 0,
   "metadata": {
    "collapsed": false
   },
   "outputs": [
   ],
   "source": [
    "(x = 25) + 3"
   ]
  },
  {
   "cell_type": "markdown",
   "metadata": {
    "collapsed": false
   },
   "source": [
    "### [TODO] Weitere Aufgaben?"
   ]
  },
  {
   "cell_type": "markdown",
   "metadata": {
    "collapsed": false
   },
   "source": [
    "## Aufgaben zu [Schleifen](../Intro-Notebooks/01-Basics.ipynb#Schleifen)"
   ]
  },
  {
   "cell_type": "markdown",
   "metadata": {
    "collapsed": false
   },
   "source": [
    "### Produkt von geraden Zahlen\n",
    "Schreiben Sie eine Schleife, die das Produkt aller geraden Zahlen zwischen `2` und einer gegebenen Zahl `n` berechnet.  \n",
    "**Hinweis:** In der folgenden Vorgabe müssen Sie nur die richtigen Argumente für den `range()`-Ausdruck angeben.\n",
    "Das vorgegebene `n` ist nicht die korrekte Lösung."
   ]
  },
  {
   "cell_type": "code",
   "execution_count": 0,
   "metadata": {
    "collapsed": false
   },
   "outputs": [
   ],
   "source": [
    "n = 5\n",
    "ergebnis = 1\n",
    "for i in range(n): # Hier den richtigen Bereich und ggf. eine Schrittweite angeben.\n",
    "    ergebnis = ergebnis * i\n",
    "ergebnis  # Erwartete Ausgabe für n == 5: 8 (Denn 2*4 == 8)"
   ]
  },
  {
   "cell_type": "markdown",
   "metadata": {
    "collapsed": false
   },
   "source": [
    "### Produkt von Vielfachen von 5\n",
    "\n",
    "Schreiben Sie eine Schleife, die das Produkt aller durch $5$ teilbaren Zahlen zwischen `5` und einer gegebenen Zahl `n` berechnet.  \n",
    "**Hinweis:** Die geraden Zahlen sind die Vielfachen von $2$. Überlegen Sie sich also, wie sie die Lösung für die vorherige modifizieren können."
   ]
  },
  {
   "cell_type": "code",
   "execution_count": 0,
   "metadata": {
    "collapsed": false
   },
   "outputs": [
   ],
   "source": [
   ]
  },
  {
   "cell_type": "markdown",
   "metadata": {
    "collapsed": false
   },
   "source": [
    "### Summe der ersten n Quadratzahlen\n",
    "\n",
    "Schreiben Sie eine Schleife, die die Summe der ersten $n$ Quadrate berechnet.\n",
    "Beispiel: Die ersten fünf Quadrate sind\n",
    "$1^2 = 1$,\n",
    "$2^2 = 4$,\n",
    "$3^2 = 9$,\n",
    "$4^2 = 16$ und\n",
    "$5^2 = 25$,\n",
    "ihre Summe ist $55$.\n",
    "\n"
   ]
  },
  {
   "cell_type": "code",
   "execution_count": 0,
   "metadata": {
    "collapsed": false
   },
   "outputs": [
   ],
   "source": [
   ]
  },
  {
   "cell_type": "markdown",
   "metadata": {
    "collapsed": false
   },
   "source": [
    "### [TODO] Weitere Aufgaben..."
   ]
  },
  {
   "cell_type": "markdown",
   "metadata": {
    "collapsed": false
   },
   "source": [
    "## Aufgaben zu [Funktionen](../Intro-Notebooks/01-Basics.ipynb#Funktionen)"
   ]
  },
  {
   "cell_type": "markdown",
   "metadata": {
    "collapsed": false
   },
   "source": [
    "### Summe der Zahlen von 1 bis n"
   ]
  },
  {
   "cell_type": "markdown",
   "metadata": {
    "collapsed": false
   },
   "source": [
    "### Summe der geraden Zahlen von 1 bis n"
   ]
  },
  {
   "cell_type": "markdown",
   "metadata": {
    "collapsed": false
   },
   "source": [
    "### Summe der ungeraden Zahlen von 1 bis n"
   ]
  },
  {
   "cell_type": "markdown",
   "metadata": {
    "collapsed": false
   },
   "source": [
    "### Wiederholtes Quadrieren"
   ]
  },
  {
   "cell_type": "markdown",
   "metadata": {
    "collapsed": false
   },
   "source": [
    "## Aufgaben zu [bedingten Sprüngen](../Intro-Notebooks/01-Basics.ipynb#If-Then-Else)"
   ]
  },
  {
   "cell_type": "markdown",
   "metadata": {
    "collapsed": false
   },
   "source": [
    "- Prüfung von Zahlen-Eigenschaften\n",
    "  - einfache Spielereien: Größer 5, kleiner 3, Durch 4 teilbar\n",
    "  - Teilbarkeit (evtl. als Vorgabe)\n",
    "  - Primzahlen (ist n prim?)\n",
    "  - Finden von Inversen modulo p"
   ]
  },
  {
   "cell_type": "markdown",
   "metadata": {
    "collapsed": false
   },
   "source": [
    "### Primzahltest"
   ]
  },
  {
   "cell_type": "markdown",
   "metadata": {
    "collapsed": false
   },
   "source": [
    "## Aufgaben zu [Listen](../Intro-Notebooks/01-Basics.ipynb#Listen)"
   ]
  },
  {
   "cell_type": "markdown",
   "metadata": {
    "collapsed": false
   },
   "source": [
    "### Gerade Zahlen herausfiltern"
   ]
  },
  {
   "cell_type": "markdown",
   "metadata": {
    "collapsed": false
   },
   "source": [
    "### Produkt aller geraden Zahlen in einer Liste"
   ]
  },
  {
   "cell_type": "markdown",
   "metadata": {
    "collapsed": false
   },
   "source": [
    "### Liste von Primzahlen bis `n`"
   ]
  },
  {
   "cell_type": "markdown",
   "metadata": {
    "collapsed": false
   },
   "source": [
    "### Liste von Teilern einer Zahl `n`"
   ]
  },
  {
   "cell_type": "markdown",
   "metadata": {
    "collapsed": false
   },
   "source": [
    "### Liste von Fakultäten"
   ]
  },
  {
   "cell_type": "markdown",
   "metadata": {
    "collapsed": false
   },
   "source": [
    "### Summe aller Zahlen einer Liste"
   ]
  },
  {
   "cell_type": "markdown",
   "metadata": {
    "collapsed": false
   },
   "source": [
    "### Liste der Ziffern einer Zahl"
   ]
  },
  {
   "cell_type": "markdown",
   "metadata": {
    "collapsed": false
   },
   "source": [
    "### Quersumme einer Zahl"
   ]
  },
  {
   "cell_type": "markdown",
   "metadata": {
    "collapsed": false
   },
   "source": [
    "### [TODO] Weitere Aufgaben Richtung Prüfsummen, Zufallszahlen etc."
   ]
  },
  {
   "cell_type": "code",
   "execution_count": 0,
   "metadata": {
    "collapsed": false
   },
   "outputs": [
   ],
   "source": [
   ]
  }
 ],
 "metadata": {
  "kernelspec": {
   "display_name": "Python 3 (system-wide)",
   "language": "python",
   "metadata": {
    "cocalc": {
     "description": "Python 3 programming language",
     "priority": 100,
     "url": "https://www.python.org/"
    }
   },
   "name": "python3"
  },
  "language_info": {
   "codemirror_mode": {
    "name": "ipython",
    "version": 3
   },
   "file_extension": ".py",
   "mimetype": "text/x-python",
   "name": "python",
   "nbconvert_exporter": "python",
   "pygments_lexer": "ipython3",
   "version": "3.8.2"
  }
 },
 "nbformat": 4,
 "nbformat_minor": 4
}